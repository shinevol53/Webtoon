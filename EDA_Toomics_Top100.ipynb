{
 "cells": [
  {
   "cell_type": "code",
   "execution_count": null,
   "metadata": {},
   "outputs": [],
   "source": [
    "# visulazation\n",
    "#from pyvirtualdisplay import Display\n",
    "import matplotlib as mpl\n",
    "import matplotlib.pyplot as plt\n",
    "import seaborn as sns\n",
    "sns.set()\n",
    "\n",
    "import warnings\n",
    "warnings.filterwarnings(action = 'ignore')\n",
    "\n",
    "# matplotlib 한글 사용을 위한 코드\n",
    "from matplotlib import rc\n",
    "rc('font', family='AppleGothic')\n",
    "mpl.rc('font', family='Hancom Gothic')\n",
    "mpl.rc('axes', unicode_minus=False)"
   ]
  },
  {
   "cell_type": "code",
   "execution_count": null,
   "metadata": {},
   "outputs": [],
   "source": [
    "df_Toomics100 = pd.read_csv(\"./df_Toomics100.csv\")"
   ]
  },
  {
   "cell_type": "code",
   "execution_count": null,
   "metadata": {},
   "outputs": [],
   "source": [
    "#rank = []\n",
    "\n",
    "#for i in range(1, 101):\n",
    "#    rank.append(i)\n",
    "#df_Toomics100['rank'] = rank"
   ]
  },
  {
   "cell_type": "code",
   "execution_count": null,
   "metadata": {},
   "outputs": [],
   "source": [
    "df_Toomics100 = df_Toomics100[['rank', 'title', 'count_episode', 'genre']]"
   ]
  },
  {
   "cell_type": "code",
   "execution_count": null,
   "metadata": {},
   "outputs": [],
   "source": [
    "df_Toomics100['genre'].unique()"
   ]
  },
  {
   "cell_type": "code",
   "execution_count": null,
   "metadata": {},
   "outputs": [],
   "source": [
    "df_Toomics100"
   ]
  },
  {
   "cell_type": "code",
   "execution_count": null,
   "metadata": {},
   "outputs": [],
   "source": [
    "df_Toomics100.describe()"
   ]
  },
  {
   "cell_type": "markdown",
   "metadata": {},
   "source": [
    "### Which Genre is the most popular in Toomics?"
   ]
  },
  {
   "cell_type": "code",
   "execution_count": null,
   "metadata": {},
   "outputs": [],
   "source": [
    "\n",
    "df_sorted_genre = df_Toomics100.groupby('genre').agg({'title' : 'count'}).sort_values('title', ascending = False).reset_index()\n",
    "df_sorted_genre['genre_count'] = df_sorted_genre['title']\n",
    "df_sorted_genre = df_sorted_genre[['genre', 'genre_count']]"
   ]
  },
  {
   "cell_type": "code",
   "execution_count": null,
   "metadata": {},
   "outputs": [],
   "source": [
    "# seaborn type\n",
    "print('Seaborn version : ', sns.__version__)\n",
    "sns.set()\n",
    "sns.set_style('whitegrid')\n",
    "sns.set_color_codes()"
   ]
  },
  {
   "cell_type": "code",
   "execution_count": null,
   "metadata": {},
   "outputs": [],
   "source": [
    "#https://seaborn.pydata.org/tutorial/color_palettes.html\n",
    "current_palatte = sns.color_palette('Set2')\n",
    "sns.palplot(current_palatte)\n"
   ]
  },
  {
   "cell_type": "code",
   "execution_count": null,
   "metadata": {},
   "outputs": [],
   "source": [
    "#colors\n",
    "group_colors = current_palatte\n",
    "\n",
    "# Pie size \n",
    "#plt.reParams['figure.figsize'] = [12, 8]\n",
    "\n",
    "\n",
    "\n",
    "# Pie chart\n",
    "plt.pie(df_sorted_genre['genre_count'], \n",
    "       labels=df_sorted_genre['genre'],\n",
    "       colors = group_colors,\n",
    "       autopct = '%1.2f%%',\n",
    "       textprops = {'fontsize': 10})\n",
    "\n",
    "plt.axis('equal')\n",
    "plt.title('Pie Chart of Toomics Top100 Genre')\n",
    "plt.show()"
   ]
  },
  {
   "cell_type": "code",
   "execution_count": null,
   "metadata": {},
   "outputs": [],
   "source": [
    "# extract number from cout_episode\n",
    "\n",
    "numbers = []\n",
    "for i in range(len(df_Toomics100)):\n",
    "    number = df_Toomics100['count_episode'][i][:-1]\n",
    "    numbers.append(number)\n",
    "    \n",
    "df_Toomics100['number'] = numbers"
   ]
  },
  {
   "cell_type": "code",
   "execution_count": null,
   "metadata": {},
   "outputs": [],
   "source": [
    "# df_Toomics100['number'] type: object -> int\n",
    "df_Toomics100['number'] = df_Toomics100['number'].astype(int)"
   ]
  },
  {
   "cell_type": "code",
   "execution_count": null,
   "metadata": {},
   "outputs": [],
   "source": [
    "# relationship between rank and episode_number(=number)?\n",
    "# ne relationship\n",
    "ax = sns.scatterplot(x='rank', y='number', data = df_Toomics100)"
   ]
  },
  {
   "cell_type": "code",
   "execution_count": null,
   "metadata": {},
   "outputs": [],
   "source": [
    "# than what is the max episode?\n",
    "df_Toomics100[df_Toomics100['number'] == df_Toomics100['number'].max()]"
   ]
  }
 ],
 "metadata": {
  "kernelspec": {
   "display_name": "Python 3",
   "language": "python",
   "name": "python3"
  },
  "language_info": {
   "codemirror_mode": {
    "name": "ipython",
    "version": 3
   },
   "file_extension": ".py",
   "mimetype": "text/x-python",
   "name": "python",
   "nbconvert_exporter": "python",
   "pygments_lexer": "ipython3",
   "version": "3.7.4"
  }
 },
 "nbformat": 4,
 "nbformat_minor": 2
}
