{
 "cells": [
  {
   "cell_type": "code",
   "execution_count": 1,
   "metadata": {},
   "outputs": [],
   "source": [
    "# basic\n",
    "import time\n",
    "import random\n",
    "import os\n",
    "import re\n",
    "import warnings\n",
    "warnings.filterwarnings('ignore')\n",
    "\n",
    "# data analytics\n",
    "import numpy as np\n",
    "import pandas as pd\n",
    "\n",
    "# web crawling\n",
    "import json\n",
    "import requests\n",
    "from bs4 import BeautifulSoup\n",
    "from selenium import webdriver\n",
    "\n",
    "# scrapy\n",
    "#import scrapy\n",
    "#from scrapy.http import TextResponse # xpath 연습\n",
    "\n",
    "# database\n",
    "#import pymongo\n",
    "\n",
    "# visulazation\n",
    "#from pyvirtualdisplay import Display\n",
    "import matplotlib as mpl\n",
    "import matplotlib.pyplot as plt\n",
    "import seaborn as sns\n",
    "sns.set()\n",
    "\n",
    "# chatbot\n",
    "#from flask import *\n",
    "#import konlpy\n",
    "#from konlpy.tag import *"
   ]
  },
  {
   "cell_type": "code",
   "execution_count": 136,
   "metadata": {},
   "outputs": [],
   "source": [
    "# matplotlib 한글 사용을 위한 코드\n",
    "from matplotlib import rc\n",
    "rc('font', family='AppleGothic')\n",
    "mpl.rc('font', family='Hancom Gothic')\n",
    "mpl.rc('axes', unicode_minus=False)"
   ]
  },
  {
   "cell_type": "code",
   "execution_count": 2,
   "metadata": {},
   "outputs": [],
   "source": [
    "url = 'https://m.toomics.com/webtoon/top100/type/monthly'"
   ]
  },
  {
   "cell_type": "code",
   "execution_count": 3,
   "metadata": {},
   "outputs": [],
   "source": [
    "# selenium\n",
    "from selenium import webdriver\n",
    "driver = webdriver.Chrome()\n",
    "driver.get(url)"
   ]
  },
  {
   "cell_type": "markdown",
   "metadata": {},
   "source": [
    "#### Test"
   ]
  },
  {
   "cell_type": "code",
   "execution_count": 7,
   "metadata": {},
   "outputs": [],
   "source": [
    "top100 = driver.find_elements_by_css_selector('#contents > div:nth-child(4) > ul > li') "
   ]
  },
  {
   "cell_type": "code",
   "execution_count": 13,
   "metadata": {},
   "outputs": [
    {
     "data": {
      "text/plain": [
       "'철보: [빌런]'"
      ]
     },
     "execution_count": 13,
     "metadata": {},
     "output_type": "execute_result"
    }
   ],
   "source": [
    "# title\n",
    "top100[0].find_element_by_css_selector('a > div > div > strong').text"
   ]
  },
  {
   "cell_type": "code",
   "execution_count": 14,
   "metadata": {},
   "outputs": [
    {
     "data": {
      "text/plain": [
       "'1위'"
      ]
     },
     "execution_count": 14,
     "metadata": {},
     "output_type": "execute_result"
    }
   ],
   "source": [
    "# order\n",
    "top100[0].find_element_by_css_selector('a > div > span > span').text"
   ]
  },
  {
   "cell_type": "code",
   "execution_count": 20,
   "metadata": {},
   "outputs": [],
   "source": [
    "# count_episode & genre\n",
    "epi_genre = top100[0].find_element_by_css_selector('a > div.toon__caption > span > span').text"
   ]
  },
  {
   "cell_type": "code",
   "execution_count": 24,
   "metadata": {},
   "outputs": [
    {
     "data": {
      "text/plain": [
       "'95화'"
      ]
     },
     "execution_count": 24,
     "metadata": {},
     "output_type": "execute_result"
    }
   ],
   "source": [
    "# split count_episode\n",
    "epi_genre.split(\"·\")[0].replace(\" \", \"\")"
   ]
  },
  {
   "cell_type": "code",
   "execution_count": 25,
   "metadata": {},
   "outputs": [
    {
     "data": {
      "text/plain": [
       "'학원/액션'"
      ]
     },
     "execution_count": 25,
     "metadata": {},
     "output_type": "execute_result"
    }
   ],
   "source": [
    "# splite genre\n",
    "epi_genre.split(\"·\")[1].replace(\" \", \"\")"
   ]
  },
  {
   "cell_type": "code",
   "execution_count": 27,
   "metadata": {},
   "outputs": [],
   "source": [
    "# crawling top100\n",
    "titles = []\n",
    "epi_genre_list = []\n",
    "rank = []\n",
    "for i in range(len(top100)):\n",
    "    title = top100[i].find_element_by_css_selector('a > div > div > strong').text\n",
    "    epi_genre = top100[i].find_element_by_css_selector('a > div.toon__caption > span > span').text\n",
    "    rank = i\n",
    "    \n",
    "    titles.append(title)\n",
    "    epi_genre_list.append(epi_genre)\n",
    "    rank.append(i)"
   ]
  },
  {
   "cell_type": "code",
   "execution_count": 29,
   "metadata": {},
   "outputs": [
    {
     "data": {
      "text/plain": [
       "(100, 100)"
      ]
     },
     "execution_count": 29,
     "metadata": {},
     "output_type": "execute_result"
    }
   ],
   "source": [
    "len(titles), len(epi_genre_list), len(rank)"
   ]
  },
  {
   "cell_type": "code",
   "execution_count": 30,
   "metadata": {},
   "outputs": [],
   "source": [
    "# list to dict\n",
    "Toomics_Top100_monthly = {\n",
    "    'rank' : rank,\n",
    "    'title' : titles,\n",
    "    'epi_genre_list' : epi_genre_list\n",
    "}"
   ]
  },
  {
   "cell_type": "code",
   "execution_count": null,
   "metadata": {},
   "outputs": [],
   "source": [
    "driver.quit()"
   ]
  },
  {
   "cell_type": "code",
   "execution_count": 110,
   "metadata": {},
   "outputs": [],
   "source": [
    "#Toomics_Top100_monthly"
   ]
  },
  {
   "cell_type": "code",
   "execution_count": 33,
   "metadata": {},
   "outputs": [
    {
     "data": {
      "text/html": [
       "<div>\n",
       "<style scoped>\n",
       "    .dataframe tbody tr th:only-of-type {\n",
       "        vertical-align: middle;\n",
       "    }\n",
       "\n",
       "    .dataframe tbody tr th {\n",
       "        vertical-align: top;\n",
       "    }\n",
       "\n",
       "    .dataframe thead th {\n",
       "        text-align: right;\n",
       "    }\n",
       "</style>\n",
       "<table border=\"1\" class=\"dataframe\">\n",
       "  <thead>\n",
       "    <tr style=\"text-align: right;\">\n",
       "      <th></th>\n",
       "      <th>title</th>\n",
       "      <th>epi_genre_list</th>\n",
       "    </tr>\n",
       "  </thead>\n",
       "  <tbody>\n",
       "    <tr>\n",
       "      <th>0</th>\n",
       "      <td>철보: [빌런]</td>\n",
       "      <td>95화 · 학원/액션</td>\n",
       "    </tr>\n",
       "    <tr>\n",
       "      <th>1</th>\n",
       "      <td>소년의 신성</td>\n",
       "      <td>142화 · 학원/액션</td>\n",
       "    </tr>\n",
       "    <tr>\n",
       "      <th>2</th>\n",
       "      <td>로스타임 인 유럽</td>\n",
       "      <td>184화 · 스포츠</td>\n",
       "    </tr>\n",
       "    <tr>\n",
       "      <th>3</th>\n",
       "      <td>고교정점</td>\n",
       "      <td>259화 · 학원/액션</td>\n",
       "    </tr>\n",
       "    <tr>\n",
       "      <th>4</th>\n",
       "      <td>고교전설</td>\n",
       "      <td>197화 · 학원/액션</td>\n",
       "    </tr>\n",
       "    <tr>\n",
       "      <th>...</th>\n",
       "      <td>...</td>\n",
       "      <td>...</td>\n",
       "    </tr>\n",
       "    <tr>\n",
       "      <th>95</th>\n",
       "      <td>사내자식</td>\n",
       "      <td>38화 · 드라마</td>\n",
       "    </tr>\n",
       "    <tr>\n",
       "      <th>96</th>\n",
       "      <td>엉덩국 만화공장</td>\n",
       "      <td>70화 · 개그</td>\n",
       "    </tr>\n",
       "    <tr>\n",
       "      <th>97</th>\n",
       "      <td>기인록</td>\n",
       "      <td>157화 · 학원/액션</td>\n",
       "    </tr>\n",
       "    <tr>\n",
       "      <th>98</th>\n",
       "      <td>다이다이</td>\n",
       "      <td>33화 · 학원/액션</td>\n",
       "    </tr>\n",
       "    <tr>\n",
       "      <th>99</th>\n",
       "      <td>블러드 블레이드</td>\n",
       "      <td>36화 · 판타지</td>\n",
       "    </tr>\n",
       "  </tbody>\n",
       "</table>\n",
       "<p>100 rows × 2 columns</p>\n",
       "</div>"
      ],
      "text/plain": [
       "        title epi_genre_list\n",
       "0    철보: [빌런]    95화 · 학원/액션\n",
       "1      소년의 신성   142화 · 학원/액션\n",
       "2   로스타임 인 유럽     184화 · 스포츠\n",
       "3        고교정점   259화 · 학원/액션\n",
       "4        고교전설   197화 · 학원/액션\n",
       "..        ...            ...\n",
       "95       사내자식      38화 · 드라마\n",
       "96   엉덩국 만화공장       70화 · 개그\n",
       "97        기인록   157화 · 학원/액션\n",
       "98       다이다이    33화 · 학원/액션\n",
       "99   블러드 블레이드      36화 · 판타지\n",
       "\n",
       "[100 rows x 2 columns]"
      ]
     },
     "execution_count": 33,
     "metadata": {},
     "output_type": "execute_result"
    }
   ],
   "source": [
    "df_Toomics_Top100_monthly = pd.DataFrame(Toomics_Top100_monthly)\n",
    "df_Toomics_Top100_monthly"
   ]
  },
  {
   "cell_type": "code",
   "execution_count": 35,
   "metadata": {},
   "outputs": [],
   "source": [
    "# separate columns\n",
    "df_Toomics_Top100_monthly['count_episode'] = ''\n",
    "df_Toomics_Top100_monthly['genre'] = ''\n",
    "\n",
    "for i in range(len(df_Toomics_Top100_monthly)):\n",
    "    df_Toomics_Top100_monthly['count_episode'][i] = df_Toomics_Top100_monthly['epi_genre_list'][i].split(\"·\")[0].replace(\" \", \"\")\n",
    "    df_Toomics_Top100_monthly['genre'][i] = df_Toomics_Top100_monthly['epi_genre_list'][i].split(\"·\")[1].replace(\" \", \"\")\n"
   ]
  },
  {
   "cell_type": "code",
   "execution_count": 37,
   "metadata": {},
   "outputs": [],
   "source": [
    "df_Toomics100 = df_Toomics_Top100_monthly[['title', 'count_episode', 'genre']]"
   ]
  },
  {
   "cell_type": "code",
   "execution_count": 43,
   "metadata": {},
   "outputs": [],
   "source": [
    "df_Toomics100.to_csv(\"./df_Toomics100.csv\", index = False)"
   ]
  }
 ],
 "metadata": {
  "kernelspec": {
   "display_name": "Python 3",
   "language": "python",
   "name": "python3"
  },
  "language_info": {
   "codemirror_mode": {
    "name": "ipython",
    "version": 3
   },
   "file_extension": ".py",
   "mimetype": "text/x-python",
   "name": "python",
   "nbconvert_exporter": "python",
   "pygments_lexer": "ipython3",
   "version": "3.7.4"
  }
 },
 "nbformat": 4,
 "nbformat_minor": 4
}
